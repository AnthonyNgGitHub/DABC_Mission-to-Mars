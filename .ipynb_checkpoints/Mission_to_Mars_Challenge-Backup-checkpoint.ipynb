{
 "cells": [
  {
   "cell_type": "code",
   "execution_count": 83,
   "metadata": {},
   "outputs": [],
   "source": [
    "# Import Splinter and BeautifulSoup\n",
    "from splinter import Browser\n",
    "from bs4 import BeautifulSoup as soup"
   ]
  },
  {
   "cell_type": "code",
   "execution_count": 84,
   "metadata": {},
   "outputs": [],
   "source": [
    "# Import Pandas\n",
    "import pandas as pd"
   ]
  },
  {
   "cell_type": "markdown",
   "metadata": {},
   "source": [
    "Below block of code works for Windows only, not Mac."
   ]
  },
  {
   "cell_type": "code",
   "execution_count": 85,
   "metadata": {},
   "outputs": [],
   "source": [
    "# Set the executable path and initialize the chrome browser in splinter\n",
    "executable_path = {'executable_path': 'chromedriver'}\n",
    "browser = Browser('chrome', **executable_path)"
   ]
  },
  {
   "cell_type": "markdown",
   "metadata": {},
   "source": [
    "Assign the url and instruct the browser to visit it"
   ]
  },
  {
   "cell_type": "code",
   "execution_count": 40,
   "metadata": {},
   "outputs": [
    {
     "data": {
      "text/plain": [
       "True"
      ]
     },
     "execution_count": 40,
     "metadata": {},
     "output_type": "execute_result"
    }
   ],
   "source": [
    "# Visit the mars nasa news site\n",
    "url = 'https://mars.nasa.gov/news/'\n",
    "browser.visit(url)\n",
    "# Optional delay for loading the page\n",
    "browser.is_element_present_by_css(\"ul.item_list li.slide\", wait_time=1)"
   ]
  },
  {
   "cell_type": "markdown",
   "metadata": {},
   "source": [
    "With the following line, \n",
    "\n",
    "    browser.is_element_present_by_css(\"ul.item_list li.slide\", wait_time=1)\n",
    "    \n",
    "   we are accomplishing two things.\n",
    "\n",
    "\n",
    "1. One is that we're searching for elements with a specific combination of tag \n",
    "\n",
    "        (ul and li) \n",
    "        \n",
    "      and attribute \n",
    "      \n",
    "        item_list and slide\n",
    "        \n",
    "      respectively.\n",
    "        \n",
    "   For example, \n",
    "   \n",
    "       ul.item_list \n",
    "       \n",
    "      would be found in HTML as \n",
    "      \n",
    "       <ul class=”item_list”>\n",
    "\n",
    "    \n",
    "2. Secondly, we're also telling our browser to wait one second before searching for components. \n",
    "\n",
    "    The optional delay is useful because sometimes dynamic pages take a little while to load, especially if they are image-heavy."
   ]
  },
  {
   "cell_type": "markdown",
   "metadata": {},
   "source": [
    "Set up HTML parser"
   ]
  },
  {
   "cell_type": "code",
   "execution_count": 41,
   "metadata": {},
   "outputs": [],
   "source": [
    "html = browser.html\n",
    "news_soup = soup(html, 'html.parser')\n",
    "slide_elem = news_soup.select_one('ul.item_list li.slide')"
   ]
  },
  {
   "cell_type": "markdown",
   "metadata": {},
   "source": [
    "#### Note 1:\n",
    "\n",
    "Notice how we've assigned \n",
    "\n",
    "    slide_elem\n",
    "    \n",
    "   as the variable to look for the \n",
    "    \n",
    "    <ul /> \n",
    "    \n",
    "   tag and its descendent (the other tags within the \n",
    "   \n",
    "    <ul />\n",
    "    \n",
    "   element), the \n",
    "   \n",
    "    <li />\n",
    "    \n",
    "   tags? \n",
    "   \n",
    "##### This is our parent element. \n",
    "\n",
    "This means that this element holds all of the other elements within it, and we'll reference it when we want to filter search results even further. \n",
    "\n",
    "The . is used for selecting classes, such as \n",
    "\n",
    "    item_list\n",
    "   \n",
    "   so the code \n",
    "   \n",
    "    'ul.item_list li.slide'\n",
    "   \n",
    "   pinpoints the \n",
    "   \n",
    "    <li />\n",
    "     \n",
    "   tag with the class of \n",
    "   \n",
    "    slide\n",
    "    \n",
    "   and the \n",
    "   \n",
    "    <ul />\n",
    "    \n",
    "   tag with a class of \n",
    "   \n",
    "    item_list. \n",
    "    \n",
    "#### Note 2:\n",
    "\n",
    "CSS works from right to left, such as returning the last item on the list instead of the first. \n",
    "\n",
    "Because of this, when using \n",
    "\n",
    "    select_one\n",
    "    \n",
    "   the first matching element returned will be a \n",
    "   \n",
    "    <li /> \n",
    "    \n",
    "   element with a class of \n",
    "   \n",
    "    slide\n",
    "    \n",
    "   and all nested elements within it."
   ]
  },
  {
   "cell_type": "markdown",
   "metadata": {},
   "source": [
    "#### Search for components\n",
    "\n",
    "After opening the page in a new browser, right-click to inspect and activate your DevTools. \n",
    "\n",
    "Then search for the HTML components you'll use to identify the title and paragraph you want.\n",
    "\n",
    "We'll want to assign the title and summary text to variables we'll reference later."
   ]
  },
  {
   "cell_type": "markdown",
   "metadata": {},
   "source": [
    "#### Scrape for Title"
   ]
  },
  {
   "cell_type": "code",
   "execution_count": 42,
   "metadata": {},
   "outputs": [
    {
     "data": {
      "text/plain": [
       "<div class=\"content_title\"><a href=\"/news/8830/celebrate-the-perseverance-rover-landing-with-nasas-student-challenge/\" target=\"_self\">Celebrate the Perseverance Rover Landing With NASA's Student Challenge</a></div>"
      ]
     },
     "execution_count": 42,
     "metadata": {},
     "output_type": "execute_result"
    }
   ],
   "source": [
    "slide_elem.find(\"div\", class_='content_title')"
   ]
  },
  {
   "cell_type": "markdown",
   "metadata": {},
   "source": [
    "In this line of code, we chained \n",
    "\n",
    "    .find\n",
    "    \n",
    "   onto our previously assigned variable, \n",
    "   \n",
    "    slide_elem.\n",
    "    \n",
    "When we do this, we're saying, \n",
    "\n",
    "    \"This variable holds a ton of information, so look inside of that information to find this specific data.\" \n",
    "    \n",
    "The data we're looking for is the content title, which we've specified by saying, \n",
    "\n",
    "    \"The specific data is in a <div /> with a class of 'content_title'.\"\n",
    "    \n",
    "The output should be the HTML containing the content title and anything else nested inside of that\n",
    "\n",
    "    <div />"
   ]
  },
  {
   "cell_type": "markdown",
   "metadata": {},
   "source": [
    "We need to get just the text; the extra HTML stuff isn't necessary."
   ]
  },
  {
   "cell_type": "code",
   "execution_count": 43,
   "metadata": {},
   "outputs": [
    {
     "data": {
      "text/plain": [
       "\"Celebrate the Perseverance Rover Landing With NASA's Student Challenge\""
      ]
     },
     "execution_count": 43,
     "metadata": {},
     "output_type": "execute_result"
    }
   ],
   "source": [
    "# Use the parent element to find the first `a` tag and save it as `news_title`\n",
    "news_title = slide_elem.find(\"div\", class_='content_title').get_text()\n",
    "news_title"
   ]
  },
  {
   "cell_type": "markdown",
   "metadata": {},
   "source": [
    "#### Scrape for Summary Text"
   ]
  },
  {
   "cell_type": "code",
   "execution_count": 44,
   "metadata": {},
   "outputs": [
    {
     "data": {
      "text/plain": [
       "'The rover touches down on the Red Planet next month, and students are invited to join the excitement by designing, building, and landing their own Mars mission. NASA can help.'"
      ]
     },
     "execution_count": 44,
     "metadata": {},
     "output_type": "execute_result"
    }
   ],
   "source": [
    "# Use the parent element to find the paragraph text\n",
    "news_p = slide_elem.find('div', class_=\"article_teaser_body\").get_text()\n",
    "news_p"
   ]
  },
  {
   "cell_type": "markdown",
   "metadata": {},
   "source": [
    "##### Note\n",
    "\n",
    "There will be many matches for the class \"article_teaser_body\" because there are many articles, each with a tag of \n",
    "\n",
    "    <div /> \n",
    "    \n",
    "   and a class of \n",
    "   \n",
    "    article_teaser_body. \n",
    "    \n",
    "We want to pull the first one on the list, not a specific one, so more than 40 results is fine. \n",
    "\n",
    "In this case, if our scraping code is too specific, we'd pull only that article summary instead of the most recent.\n",
    "\n",
    "Because new articles are added to the top of the list, and we only need the most recent one, our search leads us to the first article."
   ]
  },
  {
   "cell_type": "markdown",
   "metadata": {},
   "source": [
    "#### There are two methods used to find tags and attributes with BeautifulSoup:\n",
    "\n",
    "1. When we want only the first class and attribute we've specified, use:\n",
    "\n",
    "        .find() \n",
    "\n",
    "2. When we want to retrieve all of the tags and attributes.\n",
    "\n",
    "\n",
    "        .find_all() \n",
    "        \n",
    "If we were to use  .find_all()  instead of  .find()  when pulling the summary, we would retrieve all of the summaries on the page instead of just the first one."
   ]
  },
  {
   "cell_type": "markdown",
   "metadata": {},
   "source": [
    "### Image Scraping"
   ]
  },
  {
   "cell_type": "markdown",
   "metadata": {},
   "source": [
    "#### Featured Images\n",
    "\n",
    "https://www.jpl.nasa.gov/spaceimages/?search=&category=Mars"
   ]
  },
  {
   "cell_type": "code",
   "execution_count": 45,
   "metadata": {},
   "outputs": [],
   "source": [
    "# Visit URL\n",
    "url = 'https://www.jpl.nasa.gov/spaceimages/?search=&category=Mars'\n",
    "browser.visit(url)"
   ]
  },
  {
   "cell_type": "markdown",
   "metadata": {},
   "source": [
    "##### A new automated browser should open to the featured images webpage."
   ]
  },
  {
   "cell_type": "markdown",
   "metadata": {},
   "source": [
    "Taking a look at the button's HTML tags and attributes with the DevTools, we will see that there is a lot of code within the \n",
    "\n",
    "    <a /> tag.\n",
    "    \n",
    "  Near the end of the attributes in the \n",
    "  \n",
    "    <a /> tag \n",
    "    \n",
    "  is\n",
    "  \n",
    "    id=“full_image”. \n",
    "    \n",
    "This is significant because in HTML, an id is a completely unique identifier. \n",
    "\n",
    "\n",
    "- Often, a class is used as an identifier, but only for other HTML tags with similar styling. \n",
    "\n",
    "\n",
    "- For example, when we were scraping the articles, we saw that all of the articles had the same class. \n",
    "\n",
    "\n",
    "- None of the other components of that webpage had that class, though. \n",
    "\n",
    "\n",
    "- An id, on the other hand, can only be used one time throughout the entire page."
   ]
  },
  {
   "cell_type": "code",
   "execution_count": 46,
   "metadata": {},
   "outputs": [],
   "source": [
    "# Find and click the full image button\n",
    "full_image_elem = browser.find_by_id('full_image')\n",
    "full_image_elem.click()"
   ]
  },
  {
   "cell_type": "markdown",
   "metadata": {},
   "source": [
    "#####  The automated browser should automatically \"click\" the button and change the view to a slideshow of images"
   ]
  },
  {
   "cell_type": "markdown",
   "metadata": {},
   "source": [
    "Taking a look at the DevTools again to see what elements we can use for our scraping, there aren't any really unique classes here and no ids at all.\n",
    "\n",
    "This brings us to another useful Splinter functionality: the ability to search for HTML elements by text."
   ]
  },
  {
   "cell_type": "code",
   "execution_count": 47,
   "metadata": {},
   "outputs": [],
   "source": [
    "# Find the more info button and click that\n",
    "browser.is_element_present_by_text('more info', wait_time=1)\n",
    "more_info_elem = browser.links.find_by_partial_text('more info')\n",
    "more_info_elem.click()"
   ]
  },
  {
   "cell_type": "markdown",
   "metadata": {},
   "source": [
    "##### The automated browser should automatically \"click\" the button and change the view to the page with details behind this full image."
   ]
  },
  {
   "cell_type": "markdown",
   "metadata": {},
   "source": [
    "Let's break down this code.\n",
    "\n",
    "1. The code uses the \n",
    "\n",
    "        is_element_present_by_text() method \n",
    "    \n",
    "  to search for an element that has the provided text, in this case “more info.” \n",
    "  \n",
    " We've also added an additional argument, \n",
    " \n",
    "        wait_time=1. \n",
    "        \n",
    "  This allows the browser to fully load before we search for the element. \n",
    "  \n",
    "  Once this line is executed, it will return a Boolean to let us know if the element is present (true) or not (false).\n",
    "  \n",
    "  \n",
    "2. Next, we create a new variable, \n",
    "\n",
    "        more_info_elem\n",
    "        \n",
    "   where we employ the \n",
    "   \n",
    "        browser.links.find_by_partial_text() method. \n",
    "        \n",
    "   This method will take our string ‘more info’ to find the link associated with the \"more info\" text.\n",
    "   \n",
    "   \n",
    "3. Finally, we tell Splinter to click that link by chaining the \n",
    "\n",
    "        .click() function\n",
    "        \n",
    "    onto our \n",
    "    \n",
    "        more_info_elem variable.\n",
    "         \n",
    "All together, these three lines of code check for the \"more info\" link using only text, store a reference to the link to a variable, then click the link."
   ]
  },
  {
   "cell_type": "markdown",
   "metadata": {},
   "source": [
    "With the new page loaded onto our automated browser, it needs to be parsed so we can continue and scrape the full-size image URL"
   ]
  },
  {
   "cell_type": "code",
   "execution_count": 48,
   "metadata": {},
   "outputs": [],
   "source": [
    "# Parse the resulting html with soup\n",
    "html = browser.html\n",
    "img_soup = soup(html, 'html.parser')"
   ]
  },
  {
   "cell_type": "markdown",
   "metadata": {},
   "source": [
    "It's important to note that the value of the src will be different every time the page is updated, so we can't simply record the current value—we would only pull that image each time the code is executed, instead of the most recent one.\n",
    "\n",
    "We'll use all three of these tags \n",
    "\n",
    "    (<figure />, <a />, and <img />) \n",
    "  \n",
    "  to build the URL to the full-size image. "
   ]
  },
  {
   "cell_type": "code",
   "execution_count": 49,
   "metadata": {},
   "outputs": [
    {
     "data": {
      "text/plain": [
       "'/spaceimages/images/largesize/PIA14944_hires.jpg'"
      ]
     },
     "execution_count": 49,
     "metadata": {},
     "output_type": "execute_result"
    }
   ],
   "source": [
    "# Find the relative image url\n",
    "img_url_rel = img_soup.select_one('figure.lede a img').get(\"src\")\n",
    "img_url_rel"
   ]
  },
  {
   "cell_type": "markdown",
   "metadata": {},
   "source": [
    "What we've done here is tell BeautifulSoup to look inside the \n",
    "\n",
    "    <figure class=”lede” /> \n",
    "    \n",
    "   tag for an \n",
    "   \n",
    "    <a /> tag\n",
    "    \n",
    "   and then look within that \n",
    "   \n",
    "    <a /> tag \n",
    "    \n",
    "   for an \n",
    "   \n",
    "    <img /> tag. \n",
    "    \n",
    "Basically we're saying, \"This is where the image we want lives—use the link that's inside these tags.\"\n",
    "\n",
    "    \n",
    "We pull the link to the image with\n",
    "\n",
    "    .get(\"src\") "
   ]
  },
  {
   "cell_type": "markdown",
   "metadata": {},
   "source": [
    "Add the base URL"
   ]
  },
  {
   "cell_type": "code",
   "execution_count": 50,
   "metadata": {},
   "outputs": [
    {
     "data": {
      "text/plain": [
       "'https://www.jpl.nasa.gov/spaceimages/images/largesize/PIA14944_hires.jpg'"
      ]
     },
     "execution_count": 50,
     "metadata": {},
     "output_type": "execute_result"
    }
   ],
   "source": [
    "# Use the base URL to create an absolute URL\n",
    "img_url = f'https://www.jpl.nasa.gov{img_url_rel}'\n",
    "img_url"
   ]
  },
  {
   "cell_type": "markdown",
   "metadata": {},
   "source": [
    "### Mars Facts Scraping"
   ]
  },
  {
   "cell_type": "markdown",
   "metadata": {},
   "source": [
    "Let's look at the webpage again, this time using our DevTools. \n",
    "\n",
    "All of the data we want is in a \n",
    "\n",
    "    <table /> tag. "
   ]
  },
  {
   "cell_type": "markdown",
   "metadata": {},
   "source": [
    "Tables in HTML are basically made up of many smaller containers. \n",
    "\n",
    "The main container is the \n",
    "\n",
    "    <table /> tag. \n",
    "    \n",
    "  Inside the table is \n",
    "  \n",
    "    <tbody />\n",
    "    \n",
    "  which is the body of the table—the headers, columns, and rows.\n",
    "\n",
    "\n",
    "Next,\n",
    "\n",
    "    <tr />\n",
    "    \n",
    "  is the tag for each table row. \n",
    "  \n",
    "  Within that tag, the table data is stored in \n",
    "  \n",
    "    <td /> tags. \n",
    "    \n",
    "  This is where the columns are established."
   ]
  },
  {
   "cell_type": "markdown",
   "metadata": {},
   "source": [
    "Instead of scraping each row, or the data in each \n",
    "\n",
    "    <td />\n",
    " \n",
    " we're going to scrape the entire table with Pandas' \n",
    " \n",
    "    .read_html() \n",
    "    \n",
    " function.\n",
    " \n",
    " \n",
    "At the top of the Jupyter Notebook, add \n",
    "\n",
    "    import pandas as pd \n",
    "    \n",
    "  to the dependencies and rerun the cell. \n",
    "  \n",
    "  This way, we'll be able to use this new function without generating an error."
   ]
  },
  {
   "cell_type": "code",
   "execution_count": 51,
   "metadata": {},
   "outputs": [
    {
     "data": {
      "text/html": [
       "<div>\n",
       "<style scoped>\n",
       "    .dataframe tbody tr th:only-of-type {\n",
       "        vertical-align: middle;\n",
       "    }\n",
       "\n",
       "    .dataframe tbody tr th {\n",
       "        vertical-align: top;\n",
       "    }\n",
       "\n",
       "    .dataframe thead th {\n",
       "        text-align: right;\n",
       "    }\n",
       "</style>\n",
       "<table border=\"1\" class=\"dataframe\">\n",
       "  <thead>\n",
       "    <tr style=\"text-align: right;\">\n",
       "      <th></th>\n",
       "      <th>Mars</th>\n",
       "    </tr>\n",
       "    <tr>\n",
       "      <th>Description</th>\n",
       "      <th></th>\n",
       "    </tr>\n",
       "  </thead>\n",
       "  <tbody>\n",
       "    <tr>\n",
       "      <th>Equatorial Diameter:</th>\n",
       "      <td>6,792 km</td>\n",
       "    </tr>\n",
       "    <tr>\n",
       "      <th>Polar Diameter:</th>\n",
       "      <td>6,752 km</td>\n",
       "    </tr>\n",
       "    <tr>\n",
       "      <th>Mass:</th>\n",
       "      <td>6.39 × 10^23 kg (0.11 Earths)</td>\n",
       "    </tr>\n",
       "    <tr>\n",
       "      <th>Moons:</th>\n",
       "      <td>2 (Phobos &amp; Deimos)</td>\n",
       "    </tr>\n",
       "    <tr>\n",
       "      <th>Orbit Distance:</th>\n",
       "      <td>227,943,824 km (1.38 AU)</td>\n",
       "    </tr>\n",
       "    <tr>\n",
       "      <th>Orbit Period:</th>\n",
       "      <td>687 days (1.9 years)</td>\n",
       "    </tr>\n",
       "    <tr>\n",
       "      <th>Surface Temperature:</th>\n",
       "      <td>-87 to -5 °C</td>\n",
       "    </tr>\n",
       "    <tr>\n",
       "      <th>First Record:</th>\n",
       "      <td>2nd millennium BC</td>\n",
       "    </tr>\n",
       "    <tr>\n",
       "      <th>Recorded By:</th>\n",
       "      <td>Egyptian astronomers</td>\n",
       "    </tr>\n",
       "  </tbody>\n",
       "</table>\n",
       "</div>"
      ],
      "text/plain": [
       "                                               Mars\n",
       "Description                                        \n",
       "Equatorial Diameter:                       6,792 km\n",
       "Polar Diameter:                            6,752 km\n",
       "Mass:                 6.39 × 10^23 kg (0.11 Earths)\n",
       "Moons:                          2 (Phobos & Deimos)\n",
       "Orbit Distance:            227,943,824 km (1.38 AU)\n",
       "Orbit Period:                  687 days (1.9 years)\n",
       "Surface Temperature:                   -87 to -5 °C\n",
       "First Record:                     2nd millennium BC\n",
       "Recorded By:                   Egyptian astronomers"
      ]
     },
     "execution_count": 51,
     "metadata": {},
     "output_type": "execute_result"
    }
   ],
   "source": [
    "df = pd.read_html('http://space-facts.com/mars/')[0]\n",
    "df.columns=['Description', 'Mars']\n",
    "df.set_index('Description', inplace=True)\n",
    "df"
   ]
  },
  {
   "cell_type": "markdown",
   "metadata": {},
   "source": [
    "With this line, \n",
    "\n",
    "    df = pd.read_html('http://space-facts.com/mars/')[0]\n",
    "\n",
    "  we're creating a new DataFrame from the HTML table. \n",
    "  \n",
    "  The Pandas function read_html() specifically searches for and returns a list of tables found in the HTML. \n",
    "  \n",
    "  By specifying an index of 0, we're telling Pandas to pull only the first table it encounters, or the first item in the list. \n",
    "  \n",
    "  Then, it turns the table into a DataFrame."
   ]
  },
  {
   "cell_type": "markdown",
   "metadata": {},
   "source": [
    "Here, we assign columns to the new DataFrame for additional clarity.\n",
    "\n",
    "    df.columns=['description', 'value']"
   ]
  },
  {
   "cell_type": "markdown",
   "metadata": {},
   "source": [
    "In the next line,\n",
    "\n",
    "    df.set_index('description', inplace=True)\n",
    "\n",
    "By using the \n",
    "\n",
    "    .set_index() function \n",
    "    \n",
    "   we're turning the Description column into the DataFrame's index. \n",
    "   \n",
    "    inplace=True \n",
    "    \n",
    "   means that the updated index will remain in place, without having to reassign the DataFrame to a new variable."
   ]
  },
  {
   "cell_type": "markdown",
   "metadata": {},
   "source": [
    "Our data is live—if the table is updated, then we want that change to appear in the app also.\n",
    "\n",
    "Pandas also has a way to easily convert our DataFrame back into HTML-ready code using the \n",
    "\n",
    "    .to_html() function"
   ]
  },
  {
   "cell_type": "code",
   "execution_count": 52,
   "metadata": {
    "scrolled": true
   },
   "outputs": [
    {
     "data": {
      "text/plain": [
       "'<table border=\"1\" class=\"dataframe\">\\n  <thead>\\n    <tr style=\"text-align: right;\">\\n      <th></th>\\n      <th>Mars</th>\\n    </tr>\\n    <tr>\\n      <th>Description</th>\\n      <th></th>\\n    </tr>\\n  </thead>\\n  <tbody>\\n    <tr>\\n      <th>Equatorial Diameter:</th>\\n      <td>6,792 km</td>\\n    </tr>\\n    <tr>\\n      <th>Polar Diameter:</th>\\n      <td>6,752 km</td>\\n    </tr>\\n    <tr>\\n      <th>Mass:</th>\\n      <td>6.39 × 10^23 kg (0.11 Earths)</td>\\n    </tr>\\n    <tr>\\n      <th>Moons:</th>\\n      <td>2 (Phobos &amp; Deimos)</td>\\n    </tr>\\n    <tr>\\n      <th>Orbit Distance:</th>\\n      <td>227,943,824 km (1.38 AU)</td>\\n    </tr>\\n    <tr>\\n      <th>Orbit Period:</th>\\n      <td>687 days (1.9 years)</td>\\n    </tr>\\n    <tr>\\n      <th>Surface Temperature:</th>\\n      <td>-87 to -5 °C</td>\\n    </tr>\\n    <tr>\\n      <th>First Record:</th>\\n      <td>2nd millennium BC</td>\\n    </tr>\\n    <tr>\\n      <th>Recorded By:</th>\\n      <td>Egyptian astronomers</td>\\n    </tr>\\n  </tbody>\\n</table>'"
      ]
     },
     "execution_count": 52,
     "metadata": {},
     "output_type": "execute_result"
    }
   ],
   "source": [
    "df.to_html()"
   ]
  },
  {
   "cell_type": "markdown",
   "metadata": {},
   "source": [
    "### Mars Weather "
   ]
  },
  {
   "cell_type": "code",
   "execution_count": 53,
   "metadata": {},
   "outputs": [],
   "source": [
    "# Visit the weather website\n",
    "url = 'https://mars.nasa.gov/insight/weather/'\n",
    "browser.visit(url)"
   ]
  },
  {
   "cell_type": "code",
   "execution_count": 54,
   "metadata": {},
   "outputs": [],
   "source": [
    "# Parse the data\n",
    "html = browser.html\n",
    "weather_soup = soup(html, 'html.parser')"
   ]
  },
  {
   "cell_type": "code",
   "execution_count": 55,
   "metadata": {},
   "outputs": [
    {
     "name": "stdout",
     "output_type": "stream",
     "text": [
      "<table class=\"mb_table\" id=\"weather_observation\" style=\"width:100%;\">\n",
      " <thead>\n",
      "  <tr>\n",
      "   <th colspan=\"2\" scope=\"col\">\n",
      "    Time\n",
      "   </th>\n",
      "   <th colspan=\"3\" id=\"temperature_lbl\" scope=\"col\">\n",
      "    Air Temperature (\n",
      "    <span class=\"lbl_fahrenheit\">\n",
      "     °F\n",
      "    </span>\n",
      "    <span class=\"slash\">\n",
      "     |\n",
      "    </span>\n",
      "    <span class=\"lbl_celsius fadeBlack\">\n",
      "     °C\n",
      "    </span>\n",
      "    )\n",
      "   </th>\n",
      "   <th colspan=\"4\" id=\"windspeed_lbl\" scope=\"col\">\n",
      "    Wind Speed (\n",
      "    <span class=\"lbl_mph\">\n",
      "     mph\n",
      "    </span>\n",
      "    <span class=\"slash\">\n",
      "     |\n",
      "    </span>\n",
      "    <span class=\"lbl_mps fadeBlack\">\n",
      "     m/s\n",
      "    </span>\n",
      "    )\n",
      "   </th>\n",
      "   <th colspan=\"3\" id=\"pressure_lbl\" scope=\"col\">\n",
      "    Pressure (Pa)\n",
      "   </th>\n",
      "  </tr>\n",
      " </thead>\n",
      " <tbody>\n",
      "  <tr id=\"weather_top\">\n",
      "   <th class=\"sol\" scope=\"row\">\n",
      "    Date\n",
      "   </th>\n",
      "   <th class=\"sol\" scope=\"row\">\n",
      "    Sol\n",
      "   </th>\n",
      "   <td class=\"temperature max\">\n",
      "    Max.\n",
      "   </td>\n",
      "   <td class=\"temperature avg\">\n",
      "    Avg.\n",
      "   </td>\n",
      "   <td class=\"temperature min\">\n",
      "    Min.\n",
      "   </td>\n",
      "   <td class=\"windspeed max\">\n",
      "    Max.\n",
      "   </td>\n",
      "   <td class=\"windspeed avg\">\n",
      "    Avg.\n",
      "   </td>\n",
      "   <td class=\"windspeed min\">\n",
      "    Min.\n",
      "   </td>\n",
      "   <td class=\"windspeed direction\">\n",
      "    Direction\n",
      "    <br/>\n",
      "    <span style=\"font-size:x-small\">\n",
      "     (most common)\n",
      "    </span>\n",
      "   </td>\n",
      "   <td class=\"pressure max\">\n",
      "    Max.\n",
      "   </td>\n",
      "   <td class=\"pressure avg\">\n",
      "    Avg.\n",
      "   </td>\n",
      "   <td class=\"pressure min\">\n",
      "    Min.\n",
      "   </td>\n",
      "  </tr>\n",
      "  <tr>\n",
      "   <th class=\"sol\" scope=\"row\">\n",
      "    Jan. 3, 2021\n",
      "   </th>\n",
      "   <th class=\"sol\" scope=\"row\">\n",
      "    749\n",
      "   </th>\n",
      "   <td class=\"temperature max\">\n",
      "    <span class=\"fahrenheit\">\n",
      "     <nobr>\n",
      "      -° F\n",
      "     </nobr>\n",
      "    </span>\n",
      "    <span class=\"celsius\" style=\"display: none;\">\n",
      "     <nobr>\n",
      "      -° C\n",
      "     </nobr>\n",
      "    </span>\n",
      "   </td>\n",
      "   <td class=\"temperature avg\">\n",
      "    <span class=\"fahrenheit\">\n",
      "     <nobr>\n",
      "      -° F\n",
      "     </nobr>\n",
      "    </span>\n",
      "    <span class=\"celsius\" style=\"display: none;\">\n",
      "     <nobr>\n",
      "      -° C\n",
      "     </nobr>\n",
      "    </span>\n",
      "   </td>\n",
      "   <td class=\"temperature min\">\n",
      "    <span class=\"fahrenheit\">\n",
      "     <nobr>\n",
      "      -° F\n",
      "     </nobr>\n",
      "    </span>\n",
      "    <span class=\"celsius\" style=\"display: none;\">\n",
      "     <nobr>\n",
      "      -° C\n",
      "     </nobr>\n",
      "    </span>\n",
      "   </td>\n",
      "   <td class=\"windspeed max\">\n",
      "    <span class=\"mph\">\n",
      "     -\n",
      "    </span>\n",
      "    <span class=\"mps\" style=\"display:none\">\n",
      "     -\n",
      "    </span>\n",
      "   </td>\n",
      "   <td class=\"windspeed avg\">\n",
      "    <span class=\"mph\">\n",
      "     -\n",
      "    </span>\n",
      "    <span class=\"mps\" style=\"display:none\">\n",
      "     -\n",
      "    </span>\n",
      "   </td>\n",
      "   <td class=\"windspeed min\">\n",
      "    <span class=\"mph\">\n",
      "     -\n",
      "    </span>\n",
      "    <span class=\"mps\" style=\"display:none\">\n",
      "     -\n",
      "    </span>\n",
      "   </td>\n",
      "   <td class=\"windspeed point\">\n",
      "    n/a\n",
      "   </td>\n",
      "   <td class=\"pressure max\">\n",
      "    737.1\n",
      "   </td>\n",
      "   <td class=\"pressure avg\">\n",
      "    717\n",
      "   </td>\n",
      "   <td class=\"pressure min\">\n",
      "    691.9\n",
      "   </td>\n",
      "  </tr>\n",
      "  <tr>\n",
      "   <th class=\"sol\" scope=\"row\">\n",
      "    Jan. 2, 2021\n",
      "   </th>\n",
      "   <th class=\"sol\" scope=\"row\">\n",
      "    748\n",
      "   </th>\n",
      "   <td class=\"temperature max\">\n",
      "    <span class=\"fahrenheit\">\n",
      "     <nobr>\n",
      "      -° F\n",
      "     </nobr>\n",
      "    </span>\n",
      "    <span class=\"celsius\" style=\"display: none;\">\n",
      "     <nobr>\n",
      "      -° C\n",
      "     </nobr>\n",
      "    </span>\n",
      "   </td>\n",
      "   <td class=\"temperature avg\">\n",
      "    <span class=\"fahrenheit\">\n",
      "     <nobr>\n",
      "      -° F\n",
      "     </nobr>\n",
      "    </span>\n",
      "    <span class=\"celsius\" style=\"display: none;\">\n",
      "     <nobr>\n",
      "      -° C\n",
      "     </nobr>\n",
      "    </span>\n",
      "   </td>\n",
      "   <td class=\"temperature min\">\n",
      "    <span class=\"fahrenheit\">\n",
      "     <nobr>\n",
      "      -° F\n",
      "     </nobr>\n",
      "    </span>\n",
      "    <span class=\"celsius\" style=\"display: none;\">\n",
      "     <nobr>\n",
      "      -° C\n",
      "     </nobr>\n",
      "    </span>\n",
      "   </td>\n",
      "   <td class=\"windspeed max\">\n",
      "    <span class=\"mph\">\n",
      "     -\n",
      "    </span>\n",
      "    <span class=\"mps\" style=\"display:none\">\n",
      "     -\n",
      "    </span>\n",
      "   </td>\n",
      "   <td class=\"windspeed avg\">\n",
      "    <span class=\"mph\">\n",
      "     -\n",
      "    </span>\n",
      "    <span class=\"mps\" style=\"display:none\">\n",
      "     -\n",
      "    </span>\n",
      "   </td>\n",
      "   <td class=\"windspeed min\">\n",
      "    <span class=\"mph\">\n",
      "     -\n",
      "    </span>\n",
      "    <span class=\"mps\" style=\"display:none\">\n",
      "     -\n",
      "    </span>\n",
      "   </td>\n",
      "   <td class=\"windspeed point\">\n",
      "    n/a\n",
      "   </td>\n",
      "   <td class=\"pressure max\">\n",
      "    733.1\n",
      "   </td>\n",
      "   <td class=\"pressure avg\">\n",
      "    710.7\n",
      "   </td>\n",
      "   <td class=\"pressure min\">\n",
      "    688.9\n",
      "   </td>\n",
      "  </tr>\n",
      "  <tr>\n",
      "   <th class=\"sol\" scope=\"row\">\n",
      "    Jan. 1, 2021\n",
      "   </th>\n",
      "   <th class=\"sol\" scope=\"row\">\n",
      "    747\n",
      "   </th>\n",
      "   <td class=\"temperature max\">\n",
      "    <span class=\"fahrenheit\">\n",
      "     <nobr>\n",
      "      -° F\n",
      "     </nobr>\n",
      "    </span>\n",
      "    <span class=\"celsius\" style=\"display: none;\">\n",
      "     <nobr>\n",
      "      -° C\n",
      "     </nobr>\n",
      "    </span>\n",
      "   </td>\n",
      "   <td class=\"temperature avg\">\n",
      "    <span class=\"fahrenheit\">\n",
      "     <nobr>\n",
      "      -° F\n",
      "     </nobr>\n",
      "    </span>\n",
      "    <span class=\"celsius\" style=\"display: none;\">\n",
      "     <nobr>\n",
      "      -° C\n",
      "     </nobr>\n",
      "    </span>\n",
      "   </td>\n",
      "   <td class=\"temperature min\">\n",
      "    <span class=\"fahrenheit\">\n",
      "     <nobr>\n",
      "      -° F\n",
      "     </nobr>\n",
      "    </span>\n",
      "    <span class=\"celsius\" style=\"display: none;\">\n",
      "     <nobr>\n",
      "      -° C\n",
      "     </nobr>\n",
      "    </span>\n",
      "   </td>\n",
      "   <td class=\"windspeed max\">\n",
      "    <span class=\"mph\">\n",
      "     -\n",
      "    </span>\n",
      "    <span class=\"mps\" style=\"display:none\">\n",
      "     -\n",
      "    </span>\n",
      "   </td>\n",
      "   <td class=\"windspeed avg\">\n",
      "    <span class=\"mph\">\n",
      "     -\n",
      "    </span>\n",
      "    <span class=\"mps\" style=\"display:none\">\n",
      "     -\n",
      "    </span>\n",
      "   </td>\n",
      "   <td class=\"windspeed min\">\n",
      "    <span class=\"mph\">\n",
      "     -\n",
      "    </span>\n",
      "    <span class=\"mps\" style=\"display:none\">\n",
      "     -\n",
      "    </span>\n",
      "   </td>\n",
      "   <td class=\"windspeed point\">\n",
      "    n/a\n",
      "   </td>\n",
      "   <td class=\"pressure max\">\n",
      "    735.7\n",
      "   </td>\n",
      "   <td class=\"pressure avg\">\n",
      "    716\n",
      "   </td>\n",
      "   <td class=\"pressure min\">\n",
      "    690.3\n",
      "   </td>\n",
      "  </tr>\n",
      "  <tr>\n",
      "   <th class=\"sol\" scope=\"row\">\n",
      "    Dec. 31, 2020\n",
      "   </th>\n",
      "   <th class=\"sol\" scope=\"row\">\n",
      "    746\n",
      "   </th>\n",
      "   <td class=\"temperature max\">\n",
      "    <span class=\"fahrenheit\">\n",
      "     <nobr>\n",
      "      -° F\n",
      "     </nobr>\n",
      "    </span>\n",
      "    <span class=\"celsius\" style=\"display: none;\">\n",
      "     <nobr>\n",
      "      -° C\n",
      "     </nobr>\n",
      "    </span>\n",
      "   </td>\n",
      "   <td class=\"temperature avg\">\n",
      "    <span class=\"fahrenheit\">\n",
      "     <nobr>\n",
      "      -° F\n",
      "     </nobr>\n",
      "    </span>\n",
      "    <span class=\"celsius\" style=\"display: none;\">\n",
      "     <nobr>\n",
      "      -° C\n",
      "     </nobr>\n",
      "    </span>\n",
      "   </td>\n",
      "   <td class=\"temperature min\">\n",
      "    <span class=\"fahrenheit\">\n",
      "     <nobr>\n",
      "      -° F\n",
      "     </nobr>\n",
      "    </span>\n",
      "    <span class=\"celsius\" style=\"display: none;\">\n",
      "     <nobr>\n",
      "      -° C\n",
      "     </nobr>\n",
      "    </span>\n",
      "   </td>\n",
      "   <td class=\"windspeed max\">\n",
      "    <span class=\"mph\">\n",
      "     -\n",
      "    </span>\n",
      "    <span class=\"mps\" style=\"display:none\">\n",
      "     -\n",
      "    </span>\n",
      "   </td>\n",
      "   <td class=\"windspeed avg\">\n",
      "    <span class=\"mph\">\n",
      "     -\n",
      "    </span>\n",
      "    <span class=\"mps\" style=\"display:none\">\n",
      "     -\n",
      "    </span>\n",
      "   </td>\n",
      "   <td class=\"windspeed min\">\n",
      "    <span class=\"mph\">\n",
      "     -\n",
      "    </span>\n",
      "    <span class=\"mps\" style=\"display:none\">\n",
      "     -\n",
      "    </span>\n",
      "   </td>\n",
      "   <td class=\"windspeed point\">\n",
      "    n/a\n",
      "   </td>\n",
      "   <td class=\"pressure max\">\n",
      "    732.5\n",
      "   </td>\n",
      "   <td class=\"pressure avg\">\n",
      "    715.9\n",
      "   </td>\n",
      "   <td class=\"pressure min\">\n",
      "    692.2\n",
      "   </td>\n",
      "  </tr>\n",
      "  <tr>\n",
      "   <th class=\"sol\" scope=\"row\">\n",
      "    Dec. 30, 2020\n",
      "   </th>\n",
      "   <th class=\"sol\" scope=\"row\">\n",
      "    745\n",
      "   </th>\n",
      "   <td class=\"temperature max\">\n",
      "    <span class=\"fahrenheit\">\n",
      "     <nobr>\n",
      "      -° F\n",
      "     </nobr>\n",
      "    </span>\n",
      "    <span class=\"celsius\" style=\"display: none;\">\n",
      "     <nobr>\n",
      "      -° C\n",
      "     </nobr>\n",
      "    </span>\n",
      "   </td>\n",
      "   <td class=\"temperature avg\">\n",
      "    <span class=\"fahrenheit\">\n",
      "     <nobr>\n",
      "      -° F\n",
      "     </nobr>\n",
      "    </span>\n",
      "    <span class=\"celsius\" style=\"display: none;\">\n",
      "     <nobr>\n",
      "      -° C\n",
      "     </nobr>\n",
      "    </span>\n",
      "   </td>\n",
      "   <td class=\"temperature min\">\n",
      "    <span class=\"fahrenheit\">\n",
      "     <nobr>\n",
      "      -° F\n",
      "     </nobr>\n",
      "    </span>\n",
      "    <span class=\"celsius\" style=\"display: none;\">\n",
      "     <nobr>\n",
      "      -° C\n",
      "     </nobr>\n",
      "    </span>\n",
      "   </td>\n",
      "   <td class=\"windspeed max\">\n",
      "    <span class=\"mph\">\n",
      "     -\n",
      "    </span>\n",
      "    <span class=\"mps\" style=\"display:none\">\n",
      "     -\n",
      "    </span>\n",
      "   </td>\n",
      "   <td class=\"windspeed avg\">\n",
      "    <span class=\"mph\">\n",
      "     -\n",
      "    </span>\n",
      "    <span class=\"mps\" style=\"display:none\">\n",
      "     -\n",
      "    </span>\n",
      "   </td>\n",
      "   <td class=\"windspeed min\">\n",
      "    <span class=\"mph\">\n",
      "     -\n",
      "    </span>\n",
      "    <span class=\"mps\" style=\"display:none\">\n",
      "     -\n",
      "    </span>\n",
      "   </td>\n",
      "   <td class=\"windspeed point\">\n",
      "    n/a\n",
      "   </td>\n",
      "   <td class=\"pressure max\">\n",
      "    732.3\n",
      "   </td>\n",
      "   <td class=\"pressure avg\">\n",
      "    714.7\n",
      "   </td>\n",
      "   <td class=\"pressure min\">\n",
      "    689.8\n",
      "   </td>\n",
      "  </tr>\n",
      "  <tr>\n",
      "   <th class=\"sol\" scope=\"row\">\n",
      "    Dec. 29, 2020\n",
      "   </th>\n",
      "   <th class=\"sol\" scope=\"row\">\n",
      "    744\n",
      "   </th>\n",
      "   <td class=\"temperature max\">\n",
      "    <span class=\"fahrenheit\">\n",
      "     <nobr>\n",
      "      -° F\n",
      "     </nobr>\n",
      "    </span>\n",
      "    <span class=\"celsius\" style=\"display: none;\">\n",
      "     <nobr>\n",
      "      -° C\n",
      "     </nobr>\n",
      "    </span>\n",
      "   </td>\n",
      "   <td class=\"temperature avg\">\n",
      "    <span class=\"fahrenheit\">\n",
      "     <nobr>\n",
      "      -° F\n",
      "     </nobr>\n",
      "    </span>\n",
      "    <span class=\"celsius\" style=\"display: none;\">\n",
      "     <nobr>\n",
      "      -° C\n",
      "     </nobr>\n",
      "    </span>\n",
      "   </td>\n",
      "   <td class=\"temperature min\">\n",
      "    <span class=\"fahrenheit\">\n",
      "     <nobr>\n",
      "      -° F\n",
      "     </nobr>\n",
      "    </span>\n",
      "    <span class=\"celsius\" style=\"display: none;\">\n",
      "     <nobr>\n",
      "      -° C\n",
      "     </nobr>\n",
      "    </span>\n",
      "   </td>\n",
      "   <td class=\"windspeed max\">\n",
      "    <span class=\"mph\">\n",
      "     -\n",
      "    </span>\n",
      "    <span class=\"mps\" style=\"display:none\">\n",
      "     -\n",
      "    </span>\n",
      "   </td>\n",
      "   <td class=\"windspeed avg\">\n",
      "    <span class=\"mph\">\n",
      "     -\n",
      "    </span>\n",
      "    <span class=\"mps\" style=\"display:none\">\n",
      "     -\n",
      "    </span>\n",
      "   </td>\n",
      "   <td class=\"windspeed min\">\n",
      "    <span class=\"mph\">\n",
      "     -\n",
      "    </span>\n",
      "    <span class=\"mps\" style=\"display:none\">\n",
      "     -\n",
      "    </span>\n",
      "   </td>\n",
      "   <td class=\"windspeed point\">\n",
      "    n/a\n",
      "   </td>\n",
      "   <td class=\"pressure max\">\n",
      "    734.6\n",
      "   </td>\n",
      "   <td class=\"pressure avg\">\n",
      "    718.6\n",
      "   </td>\n",
      "   <td class=\"pressure min\">\n",
      "    692.4\n",
      "   </td>\n",
      "  </tr>\n",
      "  <tr>\n",
      "   <th class=\"sol\" scope=\"row\">\n",
      "    Dec. 28, 2020\n",
      "   </th>\n",
      "   <th class=\"sol\" scope=\"row\">\n",
      "    743\n",
      "   </th>\n",
      "   <td class=\"temperature max\">\n",
      "    <span class=\"fahrenheit\">\n",
      "     <nobr>\n",
      "      -° F\n",
      "     </nobr>\n",
      "    </span>\n",
      "    <span class=\"celsius\" style=\"display: none;\">\n",
      "     <nobr>\n",
      "      -° C\n",
      "     </nobr>\n",
      "    </span>\n",
      "   </td>\n",
      "   <td class=\"temperature avg\">\n",
      "    <span class=\"fahrenheit\">\n",
      "     <nobr>\n",
      "      -° F\n",
      "     </nobr>\n",
      "    </span>\n",
      "    <span class=\"celsius\" style=\"display: none;\">\n",
      "     <nobr>\n",
      "      -° C\n",
      "     </nobr>\n",
      "    </span>\n",
      "   </td>\n",
      "   <td class=\"temperature min\">\n",
      "    <span class=\"fahrenheit\">\n",
      "     <nobr>\n",
      "      -° F\n",
      "     </nobr>\n",
      "    </span>\n",
      "    <span class=\"celsius\" style=\"display: none;\">\n",
      "     <nobr>\n",
      "      -° C\n",
      "     </nobr>\n",
      "    </span>\n",
      "   </td>\n",
      "   <td class=\"windspeed max\">\n",
      "    <span class=\"mph\">\n",
      "     -\n",
      "    </span>\n",
      "    <span class=\"mps\" style=\"display:none\">\n",
      "     -\n",
      "    </span>\n",
      "   </td>\n",
      "   <td class=\"windspeed avg\">\n",
      "    <span class=\"mph\">\n",
      "     -\n",
      "    </span>\n",
      "    <span class=\"mps\" style=\"display:none\">\n",
      "     -\n",
      "    </span>\n",
      "   </td>\n",
      "   <td class=\"windspeed min\">\n",
      "    <span class=\"mph\">\n",
      "     -\n",
      "    </span>\n",
      "    <span class=\"mps\" style=\"display:none\">\n",
      "     -\n",
      "    </span>\n",
      "   </td>\n",
      "   <td class=\"windspeed point\">\n",
      "    n/a\n",
      "   </td>\n",
      "   <td class=\"pressure max\">\n",
      "    735.4\n",
      "   </td>\n",
      "   <td class=\"pressure avg\">\n",
      "    716.2\n",
      "   </td>\n",
      "   <td class=\"pressure min\">\n",
      "    691.4\n",
      "   </td>\n",
      "  </tr>\n",
      " </tbody>\n",
      "</table>\n"
     ]
    }
   ],
   "source": [
    "# Scrape the Daily Weather Report table\n",
    "weather_table = weather_soup.find('table', class_='mb_table')\n",
    "print(weather_table.prettify())"
   ]
  },
  {
   "cell_type": "markdown",
   "metadata": {},
   "source": [
    "# D1: Scrape High-Resolution Mars’ Hemisphere Images and Titles"
   ]
  },
  {
   "cell_type": "markdown",
   "metadata": {},
   "source": [
    "### Hemispheres"
   ]
  },
  {
   "cell_type": "markdown",
   "metadata": {},
   "source": [
    "### End the automated browsing session"
   ]
  },
  {
   "cell_type": "code",
   "execution_count": 86,
   "metadata": {},
   "outputs": [],
   "source": [
    "# 1. Use browser to visit the URL \n",
    "url = 'https://astrogeology.usgs.gov/search/results?q=hemisphere+enhanced&k1=target&v1=Mars'\n",
    "browser.visit(url)"
   ]
  },
  {
   "cell_type": "code",
   "execution_count": 74,
   "metadata": {},
   "outputs": [
    {
     "name": "stdout",
     "output_type": "stream",
     "text": [
      "['https://astrogeology.usgs.gov/cache/images/39d3266553462198bd2fbc4d18fbed17_cerberus_enhanced.tif_thumb.png', 'https://astrogeology.usgs.gov/cache/images/08eac6e22c07fb1fe72223a79252de20_schiaparelli_enhanced.tif_thumb.png', 'https://astrogeology.usgs.gov/cache/images/55a0a1e2796313fdeafb17c35925e8ac_syrtis_major_enhanced.tif_thumb.png', 'https://astrogeology.usgs.gov/cache/images/4e59980c1c57f89c680c0e1ccabbeff1_valles_marineris_enhanced.tif_thumb.png']\n",
      "\n",
      "['Cerberus Hemisphere Enhanced', 'Schiaparelli Hemisphere Enhanced', 'Syrtis Major Hemisphere Enhanced', 'Valles Marineris Hemisphere Enhanced']\n"
     ]
    }
   ],
   "source": [
    "# 2. Create a list to hold the images and titles.\n",
    "hemisphere_image_urls = []\n",
    "\n",
    "title_names =[]\n",
    "image_urls = []\n",
    "\n",
    "# 3. Write code to retrieve the image urls and titles for each hemisphere.\n",
    "\n",
    "html = browser.html\n",
    "hemi_soup = soup(html, 'html.parser')\n",
    "\n",
    "images_raw = hemi_soup.find_all('img', class_=\"thumb\")\n",
    "for image_raw in images_raw:\n",
    "    image_rel_url = image_raw.get(\"src\")\n",
    "    image_url = f'https://astrogeology.usgs.gov{image_rel_url}'\n",
    "    image_urls.append(image_url)\n",
    "\n",
    "\n",
    "titles_raw = hemi_soup.find_all('h3')\n",
    "for title_raw in titles_raw:\n",
    "    title_name = title_raw.get_text().strip()\n",
    "    title_names.append(title_name)\n",
    "\n",
    "print(image_urls)\n",
    "print()\n",
    "print(title_names)\n",
    "    "
   ]
  },
  {
   "cell_type": "code",
   "execution_count": 80,
   "metadata": {},
   "outputs": [],
   "source": [
    "hemisphere_image_urls = [{'image_url':L1, 'title':L2} for (L1,L2) in zip(image_urls, title_names)]"
   ]
  },
  {
   "cell_type": "code",
   "execution_count": 81,
   "metadata": {},
   "outputs": [
    {
     "data": {
      "text/plain": [
       "[{'image_url': 'https://astrogeology.usgs.gov/cache/images/39d3266553462198bd2fbc4d18fbed17_cerberus_enhanced.tif_thumb.png',\n",
       "  'title': 'Cerberus Hemisphere Enhanced'},\n",
       " {'image_url': 'https://astrogeology.usgs.gov/cache/images/08eac6e22c07fb1fe72223a79252de20_schiaparelli_enhanced.tif_thumb.png',\n",
       "  'title': 'Schiaparelli Hemisphere Enhanced'},\n",
       " {'image_url': 'https://astrogeology.usgs.gov/cache/images/55a0a1e2796313fdeafb17c35925e8ac_syrtis_major_enhanced.tif_thumb.png',\n",
       "  'title': 'Syrtis Major Hemisphere Enhanced'},\n",
       " {'image_url': 'https://astrogeology.usgs.gov/cache/images/4e59980c1c57f89c680c0e1ccabbeff1_valles_marineris_enhanced.tif_thumb.png',\n",
       "  'title': 'Valles Marineris Hemisphere Enhanced'}]"
      ]
     },
     "execution_count": 81,
     "metadata": {},
     "output_type": "execute_result"
    }
   ],
   "source": [
    "# 4. Print the list that holds the dictionary of each image url and title.\n",
    "hemisphere_image_urls"
   ]
  },
  {
   "cell_type": "code",
   "execution_count": 82,
   "metadata": {},
   "outputs": [],
   "source": [
    "browser.quit()"
   ]
  },
  {
   "cell_type": "code",
   "execution_count": null,
   "metadata": {},
   "outputs": [],
   "source": []
  }
 ],
 "metadata": {
  "kernelspec": {
   "display_name": "PythonData",
   "language": "python",
   "name": "pythondata"
  },
  "language_info": {
   "codemirror_mode": {
    "name": "ipython",
    "version": 3
   },
   "file_extension": ".py",
   "mimetype": "text/x-python",
   "name": "python",
   "nbconvert_exporter": "python",
   "pygments_lexer": "ipython3",
   "version": "3.7.7"
  }
 },
 "nbformat": 4,
 "nbformat_minor": 4
}
