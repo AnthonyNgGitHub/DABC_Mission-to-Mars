{
 "cells": [
  {
   "cell_type": "code",
   "execution_count": 1,
   "metadata": {},
   "outputs": [],
   "source": [
    "# Import Splinter and BeautifulSoup\n",
    "from splinter import Browser\n",
    "from bs4 import BeautifulSoup as soup"
   ]
  },
  {
   "cell_type": "code",
   "execution_count": 15,
   "metadata": {},
   "outputs": [],
   "source": [
    "# Import Pandas\n",
    "import pandas as pd"
   ]
  },
  {
   "cell_type": "markdown",
   "metadata": {},
   "source": [
    "Below block of code works for Windows only, not Mac."
   ]
  },
  {
   "cell_type": "code",
   "execution_count": 2,
   "metadata": {},
   "outputs": [],
   "source": [
    "# Set the executable path and initialize the chrome browser in splinter\n",
    "executable_path = {'executable_path': 'chromedriver'}\n",
    "browser = Browser('chrome', **executable_path)"
   ]
  },
  {
   "cell_type": "markdown",
   "metadata": {},
   "source": [
    "Assign the url and instruct the browser to visit it"
   ]
  },
  {
   "cell_type": "code",
   "execution_count": 3,
   "metadata": {},
   "outputs": [
    {
     "data": {
      "text/plain": [
       "True"
      ]
     },
     "execution_count": 3,
     "metadata": {},
     "output_type": "execute_result"
    }
   ],
   "source": [
    "# Visit the mars nasa news site\n",
    "url = 'https://mars.nasa.gov/news/'\n",
    "browser.visit(url)\n",
    "# Optional delay for loading the page\n",
    "browser.is_element_present_by_css(\"ul.item_list li.slide\", wait_time=1)"
   ]
  },
  {
   "cell_type": "markdown",
   "metadata": {},
   "source": [
    "With the following line, \n",
    "\n",
    "    browser.is_element_present_by_css(\"ul.item_list li.slide\", wait_time=1)\n",
    "    \n",
    "   we are accomplishing two things.\n",
    "\n",
    "\n",
    "1. One is that we're searching for elements with a specific combination of tag \n",
    "\n",
    "        (ul and li) \n",
    "        \n",
    "      and attribute \n",
    "      \n",
    "        item_list and slide\n",
    "        \n",
    "      respectively.\n",
    "        \n",
    "   For example, \n",
    "   \n",
    "       ul.item_list \n",
    "       \n",
    "      would be found in HTML as \n",
    "      \n",
    "       <ul class=”item_list”>\n",
    "\n",
    "    \n",
    "2. Secondly, we're also telling our browser to wait one second before searching for components. \n",
    "\n",
    "    The optional delay is useful because sometimes dynamic pages take a little while to load, especially if they are image-heavy."
   ]
  },
  {
   "cell_type": "markdown",
   "metadata": {},
   "source": [
    "Set up HTML parser"
   ]
  },
  {
   "cell_type": "code",
   "execution_count": 4,
   "metadata": {},
   "outputs": [],
   "source": [
    "html = browser.html\n",
    "news_soup = soup(html, 'html.parser')\n",
    "slide_elem = news_soup.select_one('ul.item_list li.slide')"
   ]
  },
  {
   "cell_type": "markdown",
   "metadata": {},
   "source": [
    "#### Note 1:\n",
    "\n",
    "Notice how we've assigned \n",
    "\n",
    "    slide_elem\n",
    "    \n",
    "   as the variable to look for the \n",
    "    \n",
    "    <ul /> \n",
    "    \n",
    "   tag and its descendent (the other tags within the \n",
    "   \n",
    "    <ul />\n",
    "    \n",
    "   element), the \n",
    "   \n",
    "    <li />\n",
    "    \n",
    "   tags? \n",
    "   \n",
    "##### This is our parent element. \n",
    "\n",
    "This means that this element holds all of the other elements within it, and we'll reference it when we want to filter search results even further. \n",
    "\n",
    "The . is used for selecting classes, such as \n",
    "\n",
    "    item_list\n",
    "   \n",
    "   so the code \n",
    "   \n",
    "    'ul.item_list li.slide'\n",
    "   \n",
    "   pinpoints the \n",
    "   \n",
    "    <li />\n",
    "     \n",
    "   tag with the class of \n",
    "   \n",
    "    slide\n",
    "    \n",
    "   and the \n",
    "   \n",
    "    <ul />\n",
    "    \n",
    "   tag with a class of \n",
    "   \n",
    "    item_list. \n",
    "    \n",
    "#### Note 2:\n",
    "\n",
    "CSS works from right to left, such as returning the last item on the list instead of the first. \n",
    "\n",
    "Because of this, when using \n",
    "\n",
    "    select_one\n",
    "    \n",
    "   the first matching element returned will be a \n",
    "   \n",
    "    <li /> \n",
    "    \n",
    "   element with a class of \n",
    "   \n",
    "    slide\n",
    "    \n",
    "   and all nested elements within it."
   ]
  },
  {
   "cell_type": "markdown",
   "metadata": {},
   "source": [
    "#### Search for components\n",
    "\n",
    "After opening the page in a new browser, right-click to inspect and activate your DevTools. \n",
    "\n",
    "Then search for the HTML components you'll use to identify the title and paragraph you want.\n",
    "\n",
    "We'll want to assign the title and summary text to variables we'll reference later."
   ]
  },
  {
   "cell_type": "markdown",
   "metadata": {},
   "source": [
    "#### Scrape for Title"
   ]
  },
  {
   "cell_type": "code",
   "execution_count": 5,
   "metadata": {},
   "outputs": [
    {
     "data": {
      "text/plain": [
       "<div class=\"content_title\"><a href=\"/news/8819/nasa-moves-forward-with-campaign-to-return-mars-samples-to-earth/\" target=\"_self\">NASA Moves Forward With Campaign to Return Mars Samples to Earth</a></div>"
      ]
     },
     "execution_count": 5,
     "metadata": {},
     "output_type": "execute_result"
    }
   ],
   "source": [
    "slide_elem.find(\"div\", class_='content_title')"
   ]
  },
  {
   "cell_type": "markdown",
   "metadata": {},
   "source": [
    "In this line of code, we chained \n",
    "\n",
    "    .find\n",
    "    \n",
    "   onto our previously assigned variable, \n",
    "   \n",
    "    slide_elem.\n",
    "    \n",
    "When we do this, we're saying, \n",
    "\n",
    "    \"This variable holds a ton of information, so look inside of that information to find this specific data.\" \n",
    "    \n",
    "The data we're looking for is the content title, which we've specified by saying, \n",
    "\n",
    "    \"The specific data is in a <div /> with a class of 'content_title'.\"\n",
    "    \n",
    "The output should be the HTML containing the content title and anything else nested inside of that\n",
    "\n",
    "    <div />"
   ]
  },
  {
   "cell_type": "markdown",
   "metadata": {},
   "source": [
    "We need to get just the text; the extra HTML stuff isn't necessary."
   ]
  },
  {
   "cell_type": "code",
   "execution_count": 6,
   "metadata": {},
   "outputs": [
    {
     "data": {
      "text/plain": [
       "'NASA Moves Forward With Campaign to Return Mars Samples to Earth'"
      ]
     },
     "execution_count": 6,
     "metadata": {},
     "output_type": "execute_result"
    }
   ],
   "source": [
    "# Use the parent element to find the first `a` tag and save it as `news_title`\n",
    "news_title = slide_elem.find(\"div\", class_='content_title').get_text()\n",
    "news_title"
   ]
  },
  {
   "cell_type": "markdown",
   "metadata": {},
   "source": [
    "#### Scrape for Summary Text"
   ]
  },
  {
   "cell_type": "code",
   "execution_count": 8,
   "metadata": {},
   "outputs": [
    {
     "data": {
      "text/plain": [
       "'During this next phase, the program will mature critical technologies and make critical design decisions as well as assess industry partnerships.'"
      ]
     },
     "execution_count": 8,
     "metadata": {},
     "output_type": "execute_result"
    }
   ],
   "source": [
    "# Use the parent element to find the paragraph text\n",
    "news_p = slide_elem.find('div', class_=\"article_teaser_body\").get_text()\n",
    "news_p"
   ]
  },
  {
   "cell_type": "markdown",
   "metadata": {},
   "source": [
    "##### Note\n",
    "\n",
    "There will be many matches for the class \"article_teaser_body\" because there are many articles, each with a tag of \n",
    "\n",
    "    <div /> \n",
    "    \n",
    "   and a class of \n",
    "   \n",
    "    article_teaser_body. \n",
    "    \n",
    "We want to pull the first one on the list, not a specific one, so more than 40 results is fine. \n",
    "\n",
    "In this case, if our scraping code is too specific, we'd pull only that article summary instead of the most recent.\n",
    "\n",
    "Because new articles are added to the top of the list, and we only need the most recent one, our search leads us to the first article."
   ]
  },
  {
   "cell_type": "markdown",
   "metadata": {},
   "source": [
    "#### There are two methods used to find tags and attributes with BeautifulSoup:\n",
    "\n",
    "1. When we want only the first class and attribute we've specified, use:\n",
    "\n",
    "        .find() \n",
    "\n",
    "2. When we want to retrieve all of the tags and attributes.\n",
    "\n",
    "\n",
    "        .find_all() \n",
    "        \n",
    "If we were to use  .find_all()  instead of  .find()  when pulling the summary, we would retrieve all of the summaries on the page instead of just the first one."
   ]
  },
  {
   "cell_type": "markdown",
   "metadata": {},
   "source": [
    "### Image Scraping"
   ]
  },
  {
   "cell_type": "markdown",
   "metadata": {},
   "source": [
    "#### Featured Images\n",
    "\n",
    "https://www.jpl.nasa.gov/spaceimages/?search=&category=Mars"
   ]
  },
  {
   "cell_type": "code",
   "execution_count": 9,
   "metadata": {},
   "outputs": [],
   "source": [
    "# Visit URL\n",
    "url = 'https://www.jpl.nasa.gov/spaceimages/?search=&category=Mars'\n",
    "browser.visit(url)"
   ]
  },
  {
   "cell_type": "markdown",
   "metadata": {},
   "source": [
    "##### A new automated browser should open to the featured images webpage."
   ]
  },
  {
   "cell_type": "markdown",
   "metadata": {},
   "source": [
    "Taking a look at the button's HTML tags and attributes with the DevTools, we will see that there is a lot of code within the \n",
    "\n",
    "    <a /> tag.\n",
    "    \n",
    "  Near the end of the attributes in the \n",
    "  \n",
    "    <a /> tag \n",
    "    \n",
    "  is\n",
    "  \n",
    "    id=“full_image”. \n",
    "    \n",
    "This is significant because in HTML, an id is a completely unique identifier. \n",
    "\n",
    "\n",
    "- Often, a class is used as an identifier, but only for other HTML tags with similar styling. \n",
    "\n",
    "\n",
    "- For example, when we were scraping the articles, we saw that all of the articles had the same class. \n",
    "\n",
    "\n",
    "- None of the other components of that webpage had that class, though. \n",
    "\n",
    "\n",
    "- An id, on the other hand, can only be used one time throughout the entire page."
   ]
  },
  {
   "cell_type": "code",
   "execution_count": 10,
   "metadata": {},
   "outputs": [],
   "source": [
    "# Find and click the full image button\n",
    "full_image_elem = browser.find_by_id('full_image')\n",
    "full_image_elem.click()"
   ]
  },
  {
   "cell_type": "markdown",
   "metadata": {},
   "source": [
    "#####  The automated browser should automatically \"click\" the button and change the view to a slideshow of images"
   ]
  },
  {
   "cell_type": "markdown",
   "metadata": {},
   "source": [
    "Taking a look at the DevTools again to see what elements we can use for our scraping, there aren't any really unique classes here and no ids at all.\n",
    "\n",
    "This brings us to another useful Splinter functionality: the ability to search for HTML elements by text."
   ]
  },
  {
   "cell_type": "code",
   "execution_count": 11,
   "metadata": {},
   "outputs": [],
   "source": [
    "# Find the more info button and click that\n",
    "browser.is_element_present_by_text('more info', wait_time=1)\n",
    "more_info_elem = browser.links.find_by_partial_text('more info')\n",
    "more_info_elem.click()"
   ]
  },
  {
   "cell_type": "markdown",
   "metadata": {},
   "source": [
    "##### The automated browser should automatically \"click\" the button and change the view to the page with details behind this full image."
   ]
  },
  {
   "cell_type": "markdown",
   "metadata": {},
   "source": [
    "Let's break down this code.\n",
    "\n",
    "1. The code uses the \n",
    "\n",
    "        is_element_present_by_text() method \n",
    "    \n",
    "  to search for an element that has the provided text, in this case “more info.” \n",
    "  \n",
    " We've also added an additional argument, \n",
    " \n",
    "        wait_time=1. \n",
    "        \n",
    "  This allows the browser to fully load before we search for the element. \n",
    "  \n",
    "  Once this line is executed, it will return a Boolean to let us know if the element is present (true) or not (false).\n",
    "  \n",
    "  \n",
    "2. Next, we create a new variable, \n",
    "\n",
    "        more_info_elem\n",
    "        \n",
    "   where we employ the \n",
    "   \n",
    "        browser.links.find_by_partial_text() method. \n",
    "        \n",
    "   This method will take our string ‘more info’ to find the link associated with the \"more info\" text.\n",
    "   \n",
    "   \n",
    "3. Finally, we tell Splinter to click that link by chaining the \n",
    "\n",
    "        .click() function\n",
    "        \n",
    "    onto our \n",
    "    \n",
    "        more_info_elem variable.\n",
    "         \n",
    "All together, these three lines of code check for the \"more info\" link using only text, store a reference to the link to a variable, then click the link."
   ]
  },
  {
   "cell_type": "markdown",
   "metadata": {},
   "source": [
    "With the new page loaded onto our automated browser, it needs to be parsed so we can continue and scrape the full-size image URL"
   ]
  },
  {
   "cell_type": "code",
   "execution_count": 12,
   "metadata": {},
   "outputs": [],
   "source": [
    "# Parse the resulting html with soup\n",
    "html = browser.html\n",
    "img_soup = soup(html, 'html.parser')"
   ]
  },
  {
   "cell_type": "markdown",
   "metadata": {},
   "source": [
    "It's important to note that the value of the src will be different every time the page is updated, so we can't simply record the current value—we would only pull that image each time the code is executed, instead of the most recent one.\n",
    "\n",
    "We'll use all three of these tags \n",
    "\n",
    "    (<figure />, <a />, and <img />) \n",
    "  \n",
    "  to build the URL to the full-size image. "
   ]
  },
  {
   "cell_type": "code",
   "execution_count": 13,
   "metadata": {},
   "outputs": [
    {
     "data": {
      "text/plain": [
       "'/spaceimages/images/largesize/PIA18058_hires.jpg'"
      ]
     },
     "execution_count": 13,
     "metadata": {},
     "output_type": "execute_result"
    }
   ],
   "source": [
    "# Find the relative image url\n",
    "img_url_rel = img_soup.select_one('figure.lede a img').get(\"src\")\n",
    "img_url_rel"
   ]
  },
  {
   "cell_type": "markdown",
   "metadata": {},
   "source": [
    "What we've done here is tell BeautifulSoup to look inside the \n",
    "\n",
    "    <figure class=”lede” /> \n",
    "    \n",
    "   tag for an \n",
    "   \n",
    "    <a /> tag\n",
    "    \n",
    "   and then look within that \n",
    "   \n",
    "    <a /> tag \n",
    "    \n",
    "   for an \n",
    "   \n",
    "    <img /> tag. \n",
    "    \n",
    "Basically we're saying, \"This is where the image we want lives—use the link that's inside these tags.\"\n",
    "\n",
    "    \n",
    "We pull the link to the image with\n",
    "\n",
    "    .get(\"src\") "
   ]
  },
  {
   "cell_type": "markdown",
   "metadata": {},
   "source": [
    "Add the base URL"
   ]
  },
  {
   "cell_type": "code",
   "execution_count": 14,
   "metadata": {},
   "outputs": [
    {
     "data": {
      "text/plain": [
       "'https://www.jpl.nasa.gov/spaceimages/images/largesize/PIA18058_hires.jpg'"
      ]
     },
     "execution_count": 14,
     "metadata": {},
     "output_type": "execute_result"
    }
   ],
   "source": [
    "# Use the base URL to create an absolute URL\n",
    "img_url = f'https://www.jpl.nasa.gov{img_url_rel}'\n",
    "img_url"
   ]
  },
  {
   "cell_type": "markdown",
   "metadata": {},
   "source": [
    "### Mars Facts Scraping"
   ]
  },
  {
   "cell_type": "markdown",
   "metadata": {},
   "source": [
    "Let's look at the webpage again, this time using our DevTools. \n",
    "\n",
    "All of the data we want is in a \n",
    "\n",
    "    <table /> tag. "
   ]
  },
  {
   "cell_type": "markdown",
   "metadata": {},
   "source": [
    "Tables in HTML are basically made up of many smaller containers. \n",
    "\n",
    "The main container is the \n",
    "\n",
    "    <table /> tag. \n",
    "    \n",
    "  Inside the table is \n",
    "  \n",
    "    <tbody />\n",
    "    \n",
    "  which is the body of the table—the headers, columns, and rows.\n",
    "\n",
    "\n",
    "Next,\n",
    "\n",
    "    <tr />\n",
    "    \n",
    "  is the tag for each table row. \n",
    "  \n",
    "  Within that tag, the table data is stored in \n",
    "  \n",
    "    <td /> tags. \n",
    "    \n",
    "  This is where the columns are established."
   ]
  },
  {
   "cell_type": "markdown",
   "metadata": {},
   "source": [
    "Instead of scraping each row, or the data in each \n",
    "\n",
    "    <td />\n",
    " \n",
    " we're going to scrape the entire table with Pandas' \n",
    " \n",
    "    .read_html() \n",
    "    \n",
    " function.\n",
    " \n",
    " \n",
    "At the top of the Jupyter Notebook, add \n",
    "\n",
    "    import pandas as pd \n",
    "    \n",
    "  to the dependencies and rerun the cell. \n",
    "  \n",
    "  This way, we'll be able to use this new function without generating an error."
   ]
  },
  {
   "cell_type": "code",
   "execution_count": 16,
   "metadata": {},
   "outputs": [
    {
     "data": {
      "text/html": [
       "<div>\n",
       "<style scoped>\n",
       "    .dataframe tbody tr th:only-of-type {\n",
       "        vertical-align: middle;\n",
       "    }\n",
       "\n",
       "    .dataframe tbody tr th {\n",
       "        vertical-align: top;\n",
       "    }\n",
       "\n",
       "    .dataframe thead th {\n",
       "        text-align: right;\n",
       "    }\n",
       "</style>\n",
       "<table border=\"1\" class=\"dataframe\">\n",
       "  <thead>\n",
       "    <tr style=\"text-align: right;\">\n",
       "      <th></th>\n",
       "      <th>value</th>\n",
       "    </tr>\n",
       "    <tr>\n",
       "      <th>description</th>\n",
       "      <th></th>\n",
       "    </tr>\n",
       "  </thead>\n",
       "  <tbody>\n",
       "    <tr>\n",
       "      <th>Equatorial Diameter:</th>\n",
       "      <td>6,792 km</td>\n",
       "    </tr>\n",
       "    <tr>\n",
       "      <th>Polar Diameter:</th>\n",
       "      <td>6,752 km</td>\n",
       "    </tr>\n",
       "    <tr>\n",
       "      <th>Mass:</th>\n",
       "      <td>6.39 × 10^23 kg (0.11 Earths)</td>\n",
       "    </tr>\n",
       "    <tr>\n",
       "      <th>Moons:</th>\n",
       "      <td>2 (Phobos &amp; Deimos)</td>\n",
       "    </tr>\n",
       "    <tr>\n",
       "      <th>Orbit Distance:</th>\n",
       "      <td>227,943,824 km (1.38 AU)</td>\n",
       "    </tr>\n",
       "    <tr>\n",
       "      <th>Orbit Period:</th>\n",
       "      <td>687 days (1.9 years)</td>\n",
       "    </tr>\n",
       "    <tr>\n",
       "      <th>Surface Temperature:</th>\n",
       "      <td>-87 to -5 °C</td>\n",
       "    </tr>\n",
       "    <tr>\n",
       "      <th>First Record:</th>\n",
       "      <td>2nd millennium BC</td>\n",
       "    </tr>\n",
       "    <tr>\n",
       "      <th>Recorded By:</th>\n",
       "      <td>Egyptian astronomers</td>\n",
       "    </tr>\n",
       "  </tbody>\n",
       "</table>\n",
       "</div>"
      ],
      "text/plain": [
       "                                              value\n",
       "description                                        \n",
       "Equatorial Diameter:                       6,792 km\n",
       "Polar Diameter:                            6,752 km\n",
       "Mass:                 6.39 × 10^23 kg (0.11 Earths)\n",
       "Moons:                          2 (Phobos & Deimos)\n",
       "Orbit Distance:            227,943,824 km (1.38 AU)\n",
       "Orbit Period:                  687 days (1.9 years)\n",
       "Surface Temperature:                   -87 to -5 °C\n",
       "First Record:                     2nd millennium BC\n",
       "Recorded By:                   Egyptian astronomers"
      ]
     },
     "execution_count": 16,
     "metadata": {},
     "output_type": "execute_result"
    }
   ],
   "source": [
    "df = pd.read_html('http://space-facts.com/mars/')[0]\n",
    "df.columns=['description', 'value']\n",
    "df.set_index('description', inplace=True)\n",
    "df"
   ]
  },
  {
   "cell_type": "markdown",
   "metadata": {},
   "source": [
    "With this line, \n",
    "\n",
    "    df = pd.read_html('http://space-facts.com/mars/')[0]\n",
    "\n",
    "  we're creating a new DataFrame from the HTML table. \n",
    "  \n",
    "  The Pandas function read_html() specifically searches for and returns a list of tables found in the HTML. \n",
    "  \n",
    "  By specifying an index of 0, we're telling Pandas to pull only the first table it encounters, or the first item in the list. \n",
    "  \n",
    "  Then, it turns the table into a DataFrame."
   ]
  },
  {
   "cell_type": "markdown",
   "metadata": {},
   "source": [
    "Here, we assign columns to the new DataFrame for additional clarity.\n",
    "\n",
    "    df.columns=['description', 'value']"
   ]
  },
  {
   "cell_type": "markdown",
   "metadata": {},
   "source": [
    "In the next line,\n",
    "\n",
    "    df.set_index('description', inplace=True)\n",
    "\n",
    "By using the \n",
    "\n",
    "    .set_index() function \n",
    "    \n",
    "   we're turning the Description column into the DataFrame's index. \n",
    "   \n",
    "    inplace=True \n",
    "    \n",
    "   means that the updated index will remain in place, without having to reassign the DataFrame to a new variable."
   ]
  },
  {
   "cell_type": "markdown",
   "metadata": {},
   "source": [
    "Our data is live—if the table is updated, then we want that change to appear in the app also.\n",
    "\n",
    "Pandas also has a way to easily convert our DataFrame back into HTML-ready code using the \n",
    "\n",
    "    .to_html() function"
   ]
  },
  {
   "cell_type": "code",
   "execution_count": 17,
   "metadata": {},
   "outputs": [
    {
     "data": {
      "text/plain": [
       "'<table border=\"1\" class=\"dataframe\">\\n  <thead>\\n    <tr style=\"text-align: right;\">\\n      <th></th>\\n      <th>value</th>\\n    </tr>\\n    <tr>\\n      <th>description</th>\\n      <th></th>\\n    </tr>\\n  </thead>\\n  <tbody>\\n    <tr>\\n      <th>Equatorial Diameter:</th>\\n      <td>6,792 km</td>\\n    </tr>\\n    <tr>\\n      <th>Polar Diameter:</th>\\n      <td>6,752 km</td>\\n    </tr>\\n    <tr>\\n      <th>Mass:</th>\\n      <td>6.39 × 10^23 kg (0.11 Earths)</td>\\n    </tr>\\n    <tr>\\n      <th>Moons:</th>\\n      <td>2 (Phobos &amp; Deimos)</td>\\n    </tr>\\n    <tr>\\n      <th>Orbit Distance:</th>\\n      <td>227,943,824 km (1.38 AU)</td>\\n    </tr>\\n    <tr>\\n      <th>Orbit Period:</th>\\n      <td>687 days (1.9 years)</td>\\n    </tr>\\n    <tr>\\n      <th>Surface Temperature:</th>\\n      <td>-87 to -5 °C</td>\\n    </tr>\\n    <tr>\\n      <th>First Record:</th>\\n      <td>2nd millennium BC</td>\\n    </tr>\\n    <tr>\\n      <th>Recorded By:</th>\\n      <td>Egyptian astronomers</td>\\n    </tr>\\n  </tbody>\\n</table>'"
      ]
     },
     "execution_count": 17,
     "metadata": {},
     "output_type": "execute_result"
    }
   ],
   "source": [
    "df.to_html()"
   ]
  },
  {
   "cell_type": "markdown",
   "metadata": {},
   "source": [
    "### End the automated browsing session"
   ]
  },
  {
   "cell_type": "code",
   "execution_count": 18,
   "metadata": {},
   "outputs": [],
   "source": [
    "browser.quit()"
   ]
  }
 ],
 "metadata": {
  "kernelspec": {
   "display_name": "PythonData",
   "language": "python",
   "name": "pythondata"
  },
  "language_info": {
   "codemirror_mode": {
    "name": "ipython",
    "version": 3
   },
   "file_extension": ".py",
   "mimetype": "text/x-python",
   "name": "python",
   "nbconvert_exporter": "python",
   "pygments_lexer": "ipython3",
   "version": "3.7.7"
  }
 },
 "nbformat": 4,
 "nbformat_minor": 4
}
